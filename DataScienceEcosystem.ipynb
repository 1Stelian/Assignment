{
 "cells": [
  {
   "cell_type": "markdown",
   "id": "0fc6e8ed-4208-40e4-b6a3-69fa4b5e8a83",
   "metadata": {},
   "source": [
    "# Data Science Tools and Ecosystem"
   ]
  },
  {
   "cell_type": "markdown",
   "id": "89909666-8aa3-4538-935f-9affa5227c32",
   "metadata": {},
   "source": [
    "## In this notebook, Data Science Tools and Ecosystem are summarized."
   ]
  },
  {
   "cell_type": "markdown",
   "id": "1fd32b5a-f06f-4482-8cc9-a517f0d9c4b2",
   "metadata": {},
   "source": [
    "### *Objectives:*\n",
    "* List popular languages that Data Scientists use\n",
    "* Some common used libraries by Data Scientists\n",
    "* Few examples of evaluating arithmetic expressions in Python\n",
    "  "
   ]
  },
  {
   "cell_type": "markdown",
   "id": "99d360f8-7097-436e-9933-6adc569a929c",
   "metadata": {},
   "source": [
    "## Some of the popular languages that Data Scientists use are:\n",
    "1. Python\n",
    "2. R\n",
    "3. Julia\n",
    "4. Java"
   ]
  },
  {
   "cell_type": "markdown",
   "id": "7746b90b-ac6a-4314-b517-79a0f639f8d4",
   "metadata": {},
   "source": [
    "# Some of the commonly used libraries used by Data Scientists include:\n",
    "1. ggplot\n",
    "2. plotly\n",
    "3. pandas\n",
    "4. matplotlib\n",
    "5. numpy"
   ]
  },
  {
   "cell_type": "markdown",
   "id": "ca309bda-e8b6-4f72-acb8-d33bd2a7cb8b",
   "metadata": {},
   "source": [
    "|Data Science|\n",
    "--------------\n",
    "|Jupyter Notebook|\n",
    "|Hadoop|\n",
    "|Spark|"
   ]
  },
  {
   "cell_type": "markdown",
   "id": "8a5c4d0d-13f9-49b3-b54e-3a6fed90b96c",
   "metadata": {},
   "source": [
    "### Below are a few examples of evaluating arithmetic expressions in Python"
   ]
  },
  {
   "cell_type": "code",
   "execution_count": 2,
   "id": "a570351c-f771-4d43-b939-95dfb80d17e2",
   "metadata": {},
   "outputs": [
    {
     "name": "stdout",
     "output_type": "stream",
     "text": [
      "Result is 17\n"
     ]
    }
   ],
   "source": [
    "# This a simple arithmetic expression to mutiply then add integers\n",
    "x = (3*4)+5\n",
    "print(\"Result is\", x)"
   ]
  },
  {
   "cell_type": "code",
   "execution_count": 3,
   "id": "a4234c93-c055-4fa6-acf9-35e9b665889c",
   "metadata": {},
   "outputs": [
    {
     "data": {
      "text/plain": [
       "3.3333333333333335"
      ]
     },
     "execution_count": 3,
     "metadata": {},
     "output_type": "execute_result"
    }
   ],
   "source": [
    "#This will convert 200 minutes to hours by diving by 60.\n",
    "200/60"
   ]
  },
  {
   "cell_type": "code",
   "execution_count": null,
   "id": "d0ce96ac-7eda-48b6-86fe-0d454a693d78",
   "metadata": {},
   "outputs": [],
   "source": []
  }
 ],
 "metadata": {
  "kernelspec": {
   "display_name": "Python 3 (ipykernel)",
   "language": "python",
   "name": "python3"
  },
  "language_info": {
   "codemirror_mode": {
    "name": "ipython",
    "version": 3
   },
   "file_extension": ".py",
   "mimetype": "text/x-python",
   "name": "python",
   "nbconvert_exporter": "python",
   "pygments_lexer": "ipython3",
   "version": "3.11.9"
  }
 },
 "nbformat": 4,
 "nbformat_minor": 5
}
